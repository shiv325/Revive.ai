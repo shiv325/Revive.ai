{
  "cells": [
    {
      "cell_type": "markdown",
      "metadata": {
        "id": "view-in-github",
        "colab_type": "text"
      },
      "source": [
        "<a href=\"https://colab.research.google.com/github/shiv325/Revive.ai/blob/main/notebooks/Memory_AI_Chatbot_Starter.ipynb\" target=\"_parent\"><img src=\"https://colab.research.google.com/assets/colab-badge.svg\" alt=\"Open In Colab\"/></a>"
      ]
    },
    {
      "cell_type": "markdown",
      "metadata": {
        "id": "QALTcCDnfTEQ"
      },
      "source": [
        "# 🧠 Memory AI Chatbot (Colab Starter)\n",
        "This notebook will guide you through building a memory-based AI chatbot using free tools."
      ]
    },
    {
      "cell_type": "code",
      "execution_count": null,
      "metadata": {
        "id": "BAqoxLd4fTES",
        "outputId": "a69cf2f7-0a97-4b68-a359-455d4592d043",
        "colab": {
          "base_uri": "https://localhost:8080/"
        }
      },
      "outputs": [
        {
          "output_type": "stream",
          "name": "stdout",
          "text": [
            "\u001b[2K     \u001b[90m━━━━━━━━━━━━━━━━━━━━━━━━━━━━━━━━━━━━━━━━\u001b[0m \u001b[32m67.9/67.9 MB\u001b[0m \u001b[31m10.2 MB/s\u001b[0m eta \u001b[36m0:00:00\u001b[0m\n",
            "\u001b[?25h  Installing build dependencies ... \u001b[?25l\u001b[?25hdone\n",
            "  Getting requirements to build wheel ... \u001b[?25l\u001b[?25hdone\n"
          ]
        }
      ],
      "source": [
        "# Install required libraries\n",
        "!pip install -q sentence-transformers chromadb llama-cpp-python fastapi"
      ]
    },
    {
      "cell_type": "code",
      "execution_count": null,
      "metadata": {
        "id": "8cBjb9VIfTEU"
      },
      "outputs": [],
      "source": [
        "# Load and embed memory texts\n",
        "from sentence_transformers import SentenceTransformer\n",
        "import chromadb\n",
        "model = SentenceTransformer('all-MiniLM-L6-v2')\n",
        "# Your memory texts\n",
        "texts = [\n",
        "    'I love painting in the evening.',\n",
        "    'My favorite place is the beach during sunset.'\n",
        "]\n",
        "embeddings = model.encode(texts)\n",
        "print(embeddings)"
      ]
    }
  ],
  "metadata": {
    "kernelspec": {
      "display_name": "Python 3",
      "language": "python",
      "name": "python3"
    },
    "language_info": {
      "name": "python",
      "version": "3.10"
    },
    "colab": {
      "provenance": [],
      "include_colab_link": true
    }
  },
  "nbformat": 4,
  "nbformat_minor": 0
}