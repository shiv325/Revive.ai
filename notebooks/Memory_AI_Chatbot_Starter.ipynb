
{
 "cells": [
  {
   "cell_type": "markdown",
   "metadata": {},
   "source": [
    "# 🧠 Memory AI Chatbot (Colab Starter)\n",
    "This notebook will guide you through building a memory-based AI chatbot using free tools."
   ]
  },
  {
   "cell_type": "code",
   "execution_count": null,
   "metadata": {},
   "outputs": [],
   "source": [
    "# Install required libraries\n",
    "!pip install -q sentence-transformers chromadb llama-cpp-python fastapi"
   ]
  },
  {
   "cell_type": "code",
   "execution_count": null,
   "metadata": {},
   "outputs": [],
   "source": [
    "# Load and embed memory texts\n",
    "from sentence_transformers import SentenceTransformer\n",
    "import chromadb\n",
    "model = SentenceTransformer('all-MiniLM-L6-v2')\n",
    "# Your memory texts\n",
    "texts = [\n",
    "    'I love painting in the evening.',\n",
    "    'My favorite place is the beach during sunset.'\n",
    "]\n",
    "embeddings = model.encode(texts)\n",
    "print(embeddings)"
   ]
  }
 ],
 "metadata": {
  "kernelspec": {
   "display_name": "Python 3",
   "language": "python",
   "name": "python3"
  },
  "language_info": {
   "name": "python",
   "version": "3.10"
  }
 },
 "nbformat": 4,
 "nbformat_minor": 2
}
